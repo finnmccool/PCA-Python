{
 "cells": [
  {
   "cell_type": "code",
   "execution_count": 1,
   "id": "22def59a-1810-48fb-8738-850d5b2f00db",
   "metadata": {
    "execution": {
     "iopub.execute_input": "2021-05-27T20:04:16.009395Z",
     "iopub.status.busy": "2021-05-27T20:04:16.009046Z",
     "iopub.status.idle": "2021-05-27T20:04:16.016869Z",
     "shell.execute_reply": "2021-05-27T20:04:16.015864Z",
     "shell.execute_reply.started": "2021-05-27T20:04:16.009302Z"
    }
   },
   "outputs": [
    {
     "data": {
      "application/javascript": [
       "\n",
       "        if (window._pyforest_update_imports_cell) { window._pyforest_update_imports_cell('import seaborn as sns'); }\n",
       "    "
      ],
      "text/plain": [
       "<IPython.core.display.Javascript object>"
      ]
     },
     "metadata": {},
     "output_type": "display_data"
    }
   ],
   "source": [
    "import pyforest\n",
    "sns.set()\n"
   ]
  },
  {
   "cell_type": "code",
   "execution_count": 7,
   "id": "920ad190-3b0b-48f6-8237-9bcfc02329e8",
   "metadata": {
    "execution": {
     "iopub.execute_input": "2021-05-27T20:11:58.056787Z",
     "iopub.status.busy": "2021-05-27T20:11:58.056470Z",
     "iopub.status.idle": "2021-05-27T20:12:04.157389Z",
     "shell.execute_reply": "2021-05-27T20:12:04.155814Z",
     "shell.execute_reply.started": "2021-05-27T20:11:58.056755Z"
    },
    "tags": []
   },
   "outputs": [
    {
     "data": {
      "application/javascript": [
       "\n",
       "        if (window._pyforest_update_imports_cell) { window._pyforest_update_imports_cell('import seaborn as sns\\nimport pandas as pd'); }\n",
       "    "
      ],
      "text/plain": [
       "<IPython.core.display.Javascript object>"
      ]
     },
     "metadata": {},
     "output_type": "display_data"
    },
    {
     "data": {
      "application/javascript": [
       "\n",
       "        if (window._pyforest_update_imports_cell) { window._pyforest_update_imports_cell('import seaborn as sns\\nimport pandas as pd'); }\n",
       "    "
      ],
      "text/plain": [
       "<IPython.core.display.Javascript object>"
      ]
     },
     "metadata": {},
     "output_type": "display_data"
    }
   ],
   "source": [
    "path = '../Data/DryBeanDataset'\n",
    "\n",
    "df = pd.read_excel(path + '/Dry_Bean_Dataset.xlsx')\n",
    "\n",
    "pd.set_option('precision',2)"
   ]
  },
  {
   "cell_type": "code",
   "execution_count": 15,
   "id": "068a9ad9-58c9-4b59-bc65-9d929fdca4fc",
   "metadata": {
    "execution": {
     "iopub.execute_input": "2021-05-27T21:25:06.543139Z",
     "iopub.status.busy": "2021-05-27T21:25:06.542854Z",
     "iopub.status.idle": "2021-05-27T21:25:06.549478Z",
     "shell.execute_reply": "2021-05-27T21:25:06.548405Z",
     "shell.execute_reply.started": "2021-05-27T21:25:06.543111Z"
    }
   },
   "outputs": [
    {
     "data": {
      "text/plain": [
       "Index(['Area', 'Perimeter', 'MajorAxisLength', 'MinorAxisLength',\n",
       "       'AspectRation', 'Eccentricity', 'ConvexArea', 'EquivDiameter', 'Extent',\n",
       "       'Solidity', 'roundness', 'Compactness', 'ShapeFactor1', 'ShapeFactor2',\n",
       "       'ShapeFactor3', 'ShapeFactor4', 'Class'],\n",
       "      dtype='object')"
      ]
     },
     "execution_count": 15,
     "metadata": {},
     "output_type": "execute_result"
    }
   ],
   "source": [
    "df.columns"
   ]
  },
  {
   "cell_type": "code",
   "execution_count": 31,
   "id": "1116ec22-0e84-4824-9bc5-006663436a74",
   "metadata": {
    "execution": {
     "iopub.execute_input": "2021-05-27T21:37:36.895456Z",
     "iopub.status.busy": "2021-05-27T21:37:36.895057Z",
     "iopub.status.idle": "2021-05-27T21:37:50.552200Z",
     "shell.execute_reply": "2021-05-27T21:37:50.550719Z",
     "shell.execute_reply.started": "2021-05-27T21:37:36.895416Z"
    },
    "tags": []
   },
   "outputs": [
    {
     "data": {
      "application/javascript": [
       "\n",
       "        if (window._pyforest_update_imports_cell) { window._pyforest_update_imports_cell('import seaborn as sns\\nimport pandas as pd'); }\n",
       "    "
      ],
      "text/plain": [
       "<IPython.core.display.Javascript object>"
      ]
     },
     "metadata": {},
     "output_type": "display_data"
    },
    {
     "data": {
      "text/plain": [
       "<AxesSubplot:xlabel='Area', ylabel='MajorAxisLength'>"
      ]
     },
     "execution_count": 31,
     "metadata": {},
     "output_type": "execute_result"
    },
    {
     "data": {
      "image/png": "[encoded data removed]",
      "text/plain": [
       "<Figure size 432x288 with 1 Axes>"
      ]
     },
     "metadata": {},
     "output_type": "display_data"
    }
   ],
   "source": [
    "sns.kdeplot(data=df,x='Area',y='MajorAxisLength',fill=True,hue='Class')"
   ]
  },
  {
   "cell_type": "code",
   "execution_count": 30,
   "id": "7564f664-46db-4028-b6fc-6e2e852fe643",
   "metadata": {
    "execution": {
     "iopub.execute_input": "2021-05-27T21:37:16.119990Z",
     "iopub.status.busy": "2021-05-27T21:37:16.119592Z",
     "iopub.status.idle": "2021-05-27T21:37:16.125007Z",
     "shell.execute_reply": "2021-05-27T21:37:16.123869Z",
     "shell.execute_reply.started": "2021-05-27T21:37:16.119948Z"
    },
    "tags": []
   },
   "outputs": [],
   "source": [
    "from sklearn import datasets\n",
    "from sklearn import decomposition"
   ]
  },
  {
   "cell_type": "code",
   "execution_count": null,
   "id": "685adf45-bd67-43b3-95f7-4635e6f97768",
   "metadata": {
    "tags": []
   },
   "outputs": [],
   "source": []
  },
  {
   "cell_type": "code",
   "execution_count": null,
   "id": "279c86fa-caeb-4133-8481-591a54664ebd",
   "metadata": {},
   "outputs": [],
   "source": []
  }
 ],
 "metadata": {
  "kernelspec": {
   "display_name": "Python 3",
   "language": "python",
   "name": "python3"
  },
  "language_info": {
   "codemirror_mode": {
    "name": "ipython",
    "version": 3
   },
   "file_extension": ".py",
   "mimetype": "text/x-python",
   "name": "python",
   "nbconvert_exporter": "python",
   "pygments_lexer": "ipython3",
   "version": "3.8.5"
  }
 },
 "nbformat": 4,
 "nbformat_minor": 5
}
