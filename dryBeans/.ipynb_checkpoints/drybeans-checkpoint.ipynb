{
 "cells": [
  {
   "cell_type": "markdown",
   "id": "3c003a5a-97a8-4953-bee6-d7fc5a7c6468",
   "metadata": {
    "tags": []
   },
   "source": [
    "<head>\n",
    "<style>\n",
    "       p {\n",
    "           color: red;\n",
    "           font-size: 20px;\n",
    "       }\n",
    "   <\\style>\n",
    "<\\head>\n",
    "<h2>Dry Beans Data Set<\\>\n",
    "    <body>\n",
    "        <p>Python Pandas Tutorial<\\p>\n",
    "     <\\body>\n"
   ]
  },
  {
   "cell_type": "code",
   "execution_count": 24,
   "id": "79eece72-372a-4087-bd59-10be52b2b666",
   "metadata": {
    "execution": {
     "iopub.execute_input": "2021-05-20T00:18:03.894082Z",
     "iopub.status.busy": "2021-05-20T00:18:03.893670Z",
     "iopub.status.idle": "2021-05-20T00:18:03.902392Z",
     "shell.execute_reply": "2021-05-20T00:18:03.901300Z",
     "shell.execute_reply.started": "2021-05-20T00:18:03.894040Z"
    },
    "tags": []
   },
   "outputs": [
    {
     "data": {
      "application/javascript": [
       "\n",
       "        if (window._pyforest_update_imports_cell) { window._pyforest_update_imports_cell('import pandas as pd\\nimport seaborn as sns\\nimport matplotlib.pyplot as plt'); }\n",
       "    "
      ],
      "text/plain": [
       "<IPython.core.display.Javascript object>"
      ]
     },
     "metadata": {},
     "output_type": "display_data"
    }
   ],
   "source": [
    "import pyforest\n",
    "from IPython.display import IFrame\n",
    "import re\n",
    "sns.set()"
   ]
  },
  {
   "cell_type": "code",
   "execution_count": 2,
   "id": "acdc2890-5ca4-4ddd-874d-9ea91e149b28",
   "metadata": {
    "execution": {
     "iopub.execute_input": "2021-05-19T01:37:04.372440Z",
     "iopub.status.busy": "2021-05-19T01:37:04.372071Z",
     "iopub.status.idle": "2021-05-19T01:37:04.523739Z",
     "shell.execute_reply": "2021-05-19T01:37:04.522510Z",
     "shell.execute_reply.started": "2021-05-19T01:37:04.372397Z"
    },
    "tags": []
   },
   "outputs": [],
   "source": [
    "path = '../Data/DryBeanDataset'"
   ]
  },
  {
   "cell_type": "markdown",
   "id": "515f636c-0dcf-4598-bd71-e0d6c33c3a96",
   "metadata": {},
   "source": [
    "## This is where the data comes from"
   ]
  },
  {
   "cell_type": "code",
   "execution_count": 3,
   "id": "53d8ce2c-6b17-4b3c-ab43-6a5d5ca2aeea",
   "metadata": {
    "execution": {
     "iopub.execute_input": "2021-05-19T01:37:04.525583Z",
     "iopub.status.busy": "2021-05-19T01:37:04.525184Z",
     "iopub.status.idle": "2021-05-19T01:37:04.717688Z",
     "shell.execute_reply": "2021-05-19T01:37:04.716530Z",
     "shell.execute_reply.started": "2021-05-19T01:37:04.525539Z"
    },
    "tags": []
   },
   "outputs": [
    {
     "data": {
      "text/html": [
       "\n",
       "        <iframe\n",
       "            width=\"1000\"\n",
       "            height=\"200\"\n",
       "            src=\"https://archive.ics.uci.edu/ml/datasets/Dry+Bean+Dataset#\"\n",
       "            frameborder=\"0\"\n",
       "            allowfullscreen\n",
       "        ></iframe>\n",
       "        "
      ],
      "text/plain": [
       "<IPython.lib.display.IFrame at 0x7fb362c9d700>"
      ]
     },
     "metadata": {},
     "output_type": "display_data"
    }
   ],
   "source": [
    "DataSource = IFrame(src='https://archive.ics.uci.edu/ml/datasets/Dry+Bean+Dataset#', width=1000, height=200)\n",
    "display(DataSource)"
   ]
  },
  {
   "cell_type": "markdown",
   "id": "5bc5399a-8105-4249-b50b-3d88ba91a1f1",
   "metadata": {},
   "source": [
    "## Read in the excel file from above "
   ]
  },
  {
   "cell_type": "code",
   "execution_count": 4,
   "id": "6c2b4eee-4ef5-42be-b8cf-b7788630d712",
   "metadata": {
    "execution": {
     "iopub.execute_input": "2021-05-19T01:37:04.719394Z",
     "iopub.status.busy": "2021-05-19T01:37:04.719128Z",
     "iopub.status.idle": "2021-05-19T01:37:21.243002Z",
     "shell.execute_reply": "2021-05-19T01:37:21.242133Z",
     "shell.execute_reply.started": "2021-05-19T01:37:04.719366Z"
    },
    "tags": []
   },
   "outputs": [
    {
     "data": {
      "application/javascript": [
       "\n",
       "        if (window._pyforest_update_imports_cell) { window._pyforest_update_imports_cell('import pandas as pd'); }\n",
       "    "
      ],
      "text/plain": [
       "<IPython.core.display.Javascript object>"
      ]
     },
     "metadata": {},
     "output_type": "display_data"
    }
   ],
   "source": [
    "df = pd.read_excel(path + '/Dry_Bean_Dataset.xlsx')"
   ]
  },
  {
   "cell_type": "code",
   "execution_count": 5,
   "id": "73dc668b-f4c1-4dc7-ba27-4f2897158f2f",
   "metadata": {
    "execution": {
     "iopub.execute_input": "2021-05-19T01:37:21.244783Z",
     "iopub.status.busy": "2021-05-19T01:37:21.244384Z",
     "iopub.status.idle": "2021-05-19T01:37:21.260924Z",
     "shell.execute_reply": "2021-05-19T01:37:21.259777Z",
     "shell.execute_reply.started": "2021-05-19T01:37:21.244740Z"
    },
    "tags": []
   },
   "outputs": [
    {
     "data": {
      "application/javascript": [
       "\n",
       "        if (window._pyforest_update_imports_cell) { window._pyforest_update_imports_cell('import pandas as pd'); }\n",
       "    "
      ],
      "text/plain": [
       "<IPython.core.display.Javascript object>"
      ]
     },
     "metadata": {},
     "output_type": "display_data"
    }
   ],
   "source": [
    "pd.set_option('precision',2)"
   ]
  },
  {
   "cell_type": "markdown",
   "id": "45ba4025-76ab-480c-ad5d-b1e3b7b4a7d8",
   "metadata": {},
   "source": [
    "## Have a look at the column names"
   ]
  },
  {
   "cell_type": "code",
   "execution_count": 6,
   "id": "91fadb8d-28ce-4c4a-bc6f-5a0c109ab7be",
   "metadata": {
    "execution": {
     "iopub.execute_input": "2021-05-19T01:37:21.265087Z",
     "iopub.status.busy": "2021-05-19T01:37:21.264442Z",
     "iopub.status.idle": "2021-05-19T01:37:21.412056Z",
     "shell.execute_reply": "2021-05-19T01:37:21.411201Z",
     "shell.execute_reply.started": "2021-05-19T01:37:21.265038Z"
    },
    "tags": []
   },
   "outputs": [
    {
     "name": "stdout",
     "output_type": "stream",
     "text": [
      "0    Area\n",
      "1    Perimeter\n",
      "2    MajorAxisLength\n",
      "3    MinorAxisLength\n",
      "4    AspectRation\n",
      "5    Eccentricity\n",
      "6    ConvexArea\n",
      "7    EquivDiameter\n",
      "8    Extent\n",
      "9    Solidity\n",
      "10    roundness\n",
      "11    Compactness\n",
      "12    ShapeFactor1\n",
      "13    ShapeFactor2\n",
      "14    ShapeFactor3\n",
      "15    ShapeFactor4\n",
      "16    Class\n"
     ]
    }
   ],
   "source": [
    "for i in range(len(df.columns)):\n",
    "    print(i,'  ',df.columns[i])"
   ]
  },
  {
   "cell_type": "markdown",
   "id": "61bee4b6-f4e9-4023-8e1c-88b1dec255dd",
   "metadata": {},
   "source": [
    "## Two things \n",
    "### 1- I personally don't like uppercase letters in column names\n",
    "### 2 - I don't like the column called class - can be confusing\n",
    "### First remove all the upper case letter using list comprehension and str.lower\n",
    "### Then change class to bean"
   ]
  },
  {
   "cell_type": "code",
   "execution_count": 7,
   "id": "e2128ab1-f46d-4789-8194-d316388fbc4e",
   "metadata": {
    "execution": {
     "iopub.execute_input": "2021-05-19T01:37:21.413704Z",
     "iopub.status.busy": "2021-05-19T01:37:21.413430Z",
     "iopub.status.idle": "2021-05-19T01:37:21.574585Z",
     "shell.execute_reply": "2021-05-19T01:37:21.571769Z",
     "shell.execute_reply.started": "2021-05-19T01:37:21.413677Z"
    },
    "tags": []
   },
   "outputs": [],
   "source": [
    "df.columns = [str.lower(df.columns[i]) for i in range(len(df.columns))]"
   ]
  },
  {
   "cell_type": "code",
   "execution_count": 8,
   "id": "1319f73a-d742-4ec1-b716-6ea8b3d2aff6",
   "metadata": {
    "execution": {
     "iopub.execute_input": "2021-05-19T01:37:21.579036Z",
     "iopub.status.busy": "2021-05-19T01:37:21.578310Z",
     "iopub.status.idle": "2021-05-19T01:37:21.826429Z",
     "shell.execute_reply": "2021-05-19T01:37:21.825588Z",
     "shell.execute_reply.started": "2021-05-19T01:37:21.578947Z"
    },
    "tags": []
   },
   "outputs": [
    {
     "data": {
      "text/html": [
       "<div>\n",
       "<style scoped>\n",
       "    .dataframe tbody tr th:only-of-type {\n",
       "        vertical-align: middle;\n",
       "    }\n",
       "\n",
       "    .dataframe tbody tr th {\n",
       "        vertical-align: top;\n",
       "    }\n",
       "\n",
       "    .dataframe thead th {\n",
       "        text-align: right;\n",
       "    }\n",
       "</style>\n",
       "<table border=\"1\" class=\"dataframe\">\n",
       "  <thead>\n",
       "    <tr style=\"text-align: right;\">\n",
       "      <th></th>\n",
       "      <th>area</th>\n",
       "      <th>perimeter</th>\n",
       "      <th>majoraxislength</th>\n",
       "      <th>minoraxislength</th>\n",
       "      <th>aspectration</th>\n",
       "      <th>eccentricity</th>\n",
       "      <th>convexarea</th>\n",
       "      <th>equivdiameter</th>\n",
       "      <th>extent</th>\n",
       "      <th>solidity</th>\n",
       "      <th>roundness</th>\n",
       "      <th>compactness</th>\n",
       "      <th>shapefactor1</th>\n",
       "      <th>shapefactor2</th>\n",
       "      <th>shapefactor3</th>\n",
       "      <th>shapefactor4</th>\n",
       "      <th>bean</th>\n",
       "    </tr>\n",
       "  </thead>\n",
       "  <tbody>\n",
       "    <tr>\n",
       "      <th>0</th>\n",
       "      <td>28395</td>\n",
       "      <td>610.29</td>\n",
       "      <td>208.18</td>\n",
       "      <td>173.89</td>\n",
       "      <td>1.20</td>\n",
       "      <td>0.55</td>\n",
       "      <td>28715</td>\n",
       "      <td>190.14</td>\n",
       "      <td>0.76</td>\n",
       "      <td>0.99</td>\n",
       "      <td>0.96</td>\n",
       "      <td>0.91</td>\n",
       "      <td>7.33e-03</td>\n",
       "      <td>3.15e-03</td>\n",
       "      <td>0.83</td>\n",
       "      <td>1.00</td>\n",
       "      <td>SEKER</td>\n",
       "    </tr>\n",
       "    <tr>\n",
       "      <th>1</th>\n",
       "      <td>28734</td>\n",
       "      <td>638.02</td>\n",
       "      <td>200.52</td>\n",
       "      <td>182.73</td>\n",
       "      <td>1.10</td>\n",
       "      <td>0.41</td>\n",
       "      <td>29172</td>\n",
       "      <td>191.27</td>\n",
       "      <td>0.78</td>\n",
       "      <td>0.98</td>\n",
       "      <td>0.89</td>\n",
       "      <td>0.95</td>\n",
       "      <td>6.98e-03</td>\n",
       "      <td>3.56e-03</td>\n",
       "      <td>0.91</td>\n",
       "      <td>1.00</td>\n",
       "      <td>SEKER</td>\n",
       "    </tr>\n",
       "    <tr>\n",
       "      <th>2</th>\n",
       "      <td>29380</td>\n",
       "      <td>624.11</td>\n",
       "      <td>212.83</td>\n",
       "      <td>175.93</td>\n",
       "      <td>1.21</td>\n",
       "      <td>0.56</td>\n",
       "      <td>29690</td>\n",
       "      <td>193.41</td>\n",
       "      <td>0.78</td>\n",
       "      <td>0.99</td>\n",
       "      <td>0.95</td>\n",
       "      <td>0.91</td>\n",
       "      <td>7.24e-03</td>\n",
       "      <td>3.05e-03</td>\n",
       "      <td>0.83</td>\n",
       "      <td>1.00</td>\n",
       "      <td>SEKER</td>\n",
       "    </tr>\n",
       "    <tr>\n",
       "      <th>3</th>\n",
       "      <td>30008</td>\n",
       "      <td>645.88</td>\n",
       "      <td>210.56</td>\n",
       "      <td>182.52</td>\n",
       "      <td>1.15</td>\n",
       "      <td>0.50</td>\n",
       "      <td>30724</td>\n",
       "      <td>195.47</td>\n",
       "      <td>0.78</td>\n",
       "      <td>0.98</td>\n",
       "      <td>0.90</td>\n",
       "      <td>0.93</td>\n",
       "      <td>7.02e-03</td>\n",
       "      <td>3.21e-03</td>\n",
       "      <td>0.86</td>\n",
       "      <td>0.99</td>\n",
       "      <td>SEKER</td>\n",
       "    </tr>\n",
       "    <tr>\n",
       "      <th>4</th>\n",
       "      <td>30140</td>\n",
       "      <td>620.13</td>\n",
       "      <td>201.85</td>\n",
       "      <td>190.28</td>\n",
       "      <td>1.06</td>\n",
       "      <td>0.33</td>\n",
       "      <td>30417</td>\n",
       "      <td>195.90</td>\n",
       "      <td>0.77</td>\n",
       "      <td>0.99</td>\n",
       "      <td>0.98</td>\n",
       "      <td>0.97</td>\n",
       "      <td>6.70e-03</td>\n",
       "      <td>3.66e-03</td>\n",
       "      <td>0.94</td>\n",
       "      <td>1.00</td>\n",
       "      <td>SEKER</td>\n",
       "    </tr>\n",
       "  </tbody>\n",
       "</table>\n",
       "</div>"
      ],
      "text/plain": [
       "    area  perimeter  majoraxislength  minoraxislength  aspectration  \\\n",
       "0  28395     610.29           208.18           173.89          1.20   \n",
       "1  28734     638.02           200.52           182.73          1.10   \n",
       "2  29380     624.11           212.83           175.93          1.21   \n",
       "3  30008     645.88           210.56           182.52          1.15   \n",
       "4  30140     620.13           201.85           190.28          1.06   \n",
       "\n",
       "   eccentricity  convexarea  equivdiameter  extent  solidity  roundness  \\\n",
       "0          0.55       28715         190.14    0.76      0.99       0.96   \n",
       "1          0.41       29172         191.27    0.78      0.98       0.89   \n",
       "2          0.56       29690         193.41    0.78      0.99       0.95   \n",
       "3          0.50       30724         195.47    0.78      0.98       0.90   \n",
       "4          0.33       30417         195.90    0.77      0.99       0.98   \n",
       "\n",
       "   compactness  shapefactor1  shapefactor2  shapefactor3  shapefactor4   bean  \n",
       "0         0.91      7.33e-03      3.15e-03          0.83          1.00  SEKER  \n",
       "1         0.95      6.98e-03      3.56e-03          0.91          1.00  SEKER  \n",
       "2         0.91      7.24e-03      3.05e-03          0.83          1.00  SEKER  \n",
       "3         0.93      7.02e-03      3.21e-03          0.86          0.99  SEKER  \n",
       "4         0.97      6.70e-03      3.66e-03          0.94          1.00  SEKER  "
      ]
     },
     "execution_count": 8,
     "metadata": {},
     "output_type": "execute_result"
    }
   ],
   "source": [
    "df.rename(columns={'class' : 'bean'}, inplace=True)\n",
    "df.head()"
   ]
  },
  {
   "cell_type": "markdown",
   "id": "4d97a2a7-a7ce-4d5c-827f-60ab862fa01f",
   "metadata": {},
   "source": [
    "### we will be trying to classify beans based on the characteristics in the DF What beans are there"
   ]
  },
  {
   "cell_type": "code",
   "execution_count": 9,
   "id": "29619927-daef-420f-afbe-d493856fb47e",
   "metadata": {
    "execution": {
     "iopub.execute_input": "2021-05-19T01:37:21.828291Z",
     "iopub.status.busy": "2021-05-19T01:37:21.827903Z",
     "iopub.status.idle": "2021-05-19T01:37:21.889702Z",
     "shell.execute_reply": "2021-05-19T01:37:21.888404Z",
     "shell.execute_reply.started": "2021-05-19T01:37:21.828250Z"
    },
    "tags": []
   },
   "outputs": [
    {
     "data": {
      "text/plain": [
       "DERMASON    3546\n",
       "SIRA        2636\n",
       "SEKER       2027\n",
       "HOROZ       1928\n",
       "CALI        1630\n",
       "BARBUNYA    1322\n",
       "BOMBAY       522\n",
       "Name: bean, dtype: int64"
      ]
     },
     "execution_count": 9,
     "metadata": {},
     "output_type": "execute_result"
    }
   ],
   "source": [
    "df.bean.value_counts()"
   ]
  },
  {
   "cell_type": "markdown",
   "id": "00870adb-3540-4605-843c-a3587f8dda38",
   "metadata": {},
   "source": [
    "### Let's have a look at some of the beans we are measuring"
   ]
  },
  {
   "cell_type": "markdown",
   "id": "7eab8d83-dc59-4eaf-8fcc-a06eea5e51bc",
   "metadata": {},
   "source": [
    "<p>Barbunya Beans</p>\n",
    "<img src=\"../img/barbunya.jpg\" style=\"float: left; width: 30%; margin-right: 1%; margin-bottom: 0.5em;\"> <p>Dermason Beans</p>\n",
    "<img src=\"../img/dermason.jpg\" style=\"float: left; width: 30%; margin-right: 1%; margin-bottom: 0.5em;\">\n",
    "<p>Horoz Beans</p>\n",
    "<img src=\"../img/horoz.jpg\" alt='horoz' style=\"float: left; width: 30%; margin-right: 1%; margin-bottom: 0.5em;\">\n",
    "<p style=\"clear: both;\">"
   ]
  },
  {
   "cell_type": "code",
   "execution_count": 10,
   "id": "04051e4d-0d58-435e-ab6f-e1cbbc0bc705",
   "metadata": {
    "execution": {
     "iopub.execute_input": "2021-05-19T01:37:21.891300Z",
     "iopub.status.busy": "2021-05-19T01:37:21.890985Z",
     "iopub.status.idle": "2021-05-19T01:37:22.125960Z",
     "shell.execute_reply": "2021-05-19T01:37:22.125050Z",
     "shell.execute_reply.started": "2021-05-19T01:37:21.891267Z"
    },
    "tags": []
   },
   "outputs": [
    {
     "data": {
      "text/html": [
       "<div>\n",
       "<style scoped>\n",
       "    .dataframe tbody tr th:only-of-type {\n",
       "        vertical-align: middle;\n",
       "    }\n",
       "\n",
       "    .dataframe tbody tr th {\n",
       "        vertical-align: top;\n",
       "    }\n",
       "\n",
       "    .dataframe thead th {\n",
       "        text-align: right;\n",
       "    }\n",
       "</style>\n",
       "<table border=\"1\" class=\"dataframe\">\n",
       "  <thead>\n",
       "    <tr style=\"text-align: right;\">\n",
       "      <th></th>\n",
       "      <th>area</th>\n",
       "      <th>perimeter</th>\n",
       "      <th>majoraxislength</th>\n",
       "      <th>minoraxislength</th>\n",
       "      <th>aspectration</th>\n",
       "      <th>eccentricity</th>\n",
       "      <th>convexarea</th>\n",
       "      <th>equivdiameter</th>\n",
       "      <th>extent</th>\n",
       "      <th>solidity</th>\n",
       "      <th>roundness</th>\n",
       "      <th>compactness</th>\n",
       "      <th>shapefactor1</th>\n",
       "      <th>shapefactor2</th>\n",
       "      <th>shapefactor3</th>\n",
       "      <th>shapefactor4</th>\n",
       "    </tr>\n",
       "  </thead>\n",
       "  <tbody>\n",
       "    <tr>\n",
       "      <th>count</th>\n",
       "      <td>13611.00</td>\n",
       "      <td>13611.00</td>\n",
       "      <td>13611.00</td>\n",
       "      <td>13611.00</td>\n",
       "      <td>13611.00</td>\n",
       "      <td>13611.00</td>\n",
       "      <td>13611.00</td>\n",
       "      <td>13611.00</td>\n",
       "      <td>13611.00</td>\n",
       "      <td>1.36e+04</td>\n",
       "      <td>13611.00</td>\n",
       "      <td>13611.00</td>\n",
       "      <td>1.36e+04</td>\n",
       "      <td>1.36e+04</td>\n",
       "      <td>13611.00</td>\n",
       "      <td>1.36e+04</td>\n",
       "    </tr>\n",
       "    <tr>\n",
       "      <th>mean</th>\n",
       "      <td>53048.28</td>\n",
       "      <td>855.28</td>\n",
       "      <td>320.14</td>\n",
       "      <td>202.27</td>\n",
       "      <td>1.58</td>\n",
       "      <td>0.75</td>\n",
       "      <td>53768.20</td>\n",
       "      <td>253.06</td>\n",
       "      <td>0.75</td>\n",
       "      <td>9.87e-01</td>\n",
       "      <td>0.87</td>\n",
       "      <td>0.80</td>\n",
       "      <td>6.56e-03</td>\n",
       "      <td>1.72e-03</td>\n",
       "      <td>0.64</td>\n",
       "      <td>9.95e-01</td>\n",
       "    </tr>\n",
       "    <tr>\n",
       "      <th>std</th>\n",
       "      <td>29324.10</td>\n",
       "      <td>214.29</td>\n",
       "      <td>85.69</td>\n",
       "      <td>44.97</td>\n",
       "      <td>0.25</td>\n",
       "      <td>0.09</td>\n",
       "      <td>29774.92</td>\n",
       "      <td>59.18</td>\n",
       "      <td>0.05</td>\n",
       "      <td>4.66e-03</td>\n",
       "      <td>0.06</td>\n",
       "      <td>0.06</td>\n",
       "      <td>1.13e-03</td>\n",
       "      <td>5.96e-04</td>\n",
       "      <td>0.10</td>\n",
       "      <td>4.37e-03</td>\n",
       "    </tr>\n",
       "    <tr>\n",
       "      <th>min</th>\n",
       "      <td>20420.00</td>\n",
       "      <td>524.74</td>\n",
       "      <td>183.60</td>\n",
       "      <td>122.51</td>\n",
       "      <td>1.02</td>\n",
       "      <td>0.22</td>\n",
       "      <td>20684.00</td>\n",
       "      <td>161.24</td>\n",
       "      <td>0.56</td>\n",
       "      <td>9.19e-01</td>\n",
       "      <td>0.49</td>\n",
       "      <td>0.64</td>\n",
       "      <td>2.78e-03</td>\n",
       "      <td>5.64e-04</td>\n",
       "      <td>0.41</td>\n",
       "      <td>9.48e-01</td>\n",
       "    </tr>\n",
       "    <tr>\n",
       "      <th>25%</th>\n",
       "      <td>36328.00</td>\n",
       "      <td>703.52</td>\n",
       "      <td>253.30</td>\n",
       "      <td>175.85</td>\n",
       "      <td>1.43</td>\n",
       "      <td>0.72</td>\n",
       "      <td>36714.50</td>\n",
       "      <td>215.07</td>\n",
       "      <td>0.72</td>\n",
       "      <td>9.86e-01</td>\n",
       "      <td>0.83</td>\n",
       "      <td>0.76</td>\n",
       "      <td>5.90e-03</td>\n",
       "      <td>1.15e-03</td>\n",
       "      <td>0.58</td>\n",
       "      <td>9.94e-01</td>\n",
       "    </tr>\n",
       "    <tr>\n",
       "      <th>50%</th>\n",
       "      <td>44652.00</td>\n",
       "      <td>794.94</td>\n",
       "      <td>296.88</td>\n",
       "      <td>192.43</td>\n",
       "      <td>1.55</td>\n",
       "      <td>0.76</td>\n",
       "      <td>45178.00</td>\n",
       "      <td>238.44</td>\n",
       "      <td>0.76</td>\n",
       "      <td>9.88e-01</td>\n",
       "      <td>0.88</td>\n",
       "      <td>0.80</td>\n",
       "      <td>6.65e-03</td>\n",
       "      <td>1.69e-03</td>\n",
       "      <td>0.64</td>\n",
       "      <td>9.96e-01</td>\n",
       "    </tr>\n",
       "    <tr>\n",
       "      <th>75%</th>\n",
       "      <td>61332.00</td>\n",
       "      <td>977.21</td>\n",
       "      <td>376.50</td>\n",
       "      <td>217.03</td>\n",
       "      <td>1.71</td>\n",
       "      <td>0.81</td>\n",
       "      <td>62294.00</td>\n",
       "      <td>279.45</td>\n",
       "      <td>0.79</td>\n",
       "      <td>9.90e-01</td>\n",
       "      <td>0.92</td>\n",
       "      <td>0.83</td>\n",
       "      <td>7.27e-03</td>\n",
       "      <td>2.17e-03</td>\n",
       "      <td>0.70</td>\n",
       "      <td>9.98e-01</td>\n",
       "    </tr>\n",
       "    <tr>\n",
       "      <th>max</th>\n",
       "      <td>254616.00</td>\n",
       "      <td>1985.37</td>\n",
       "      <td>738.86</td>\n",
       "      <td>460.20</td>\n",
       "      <td>2.43</td>\n",
       "      <td>0.91</td>\n",
       "      <td>263261.00</td>\n",
       "      <td>569.37</td>\n",
       "      <td>0.87</td>\n",
       "      <td>9.95e-01</td>\n",
       "      <td>0.99</td>\n",
       "      <td>0.99</td>\n",
       "      <td>1.05e-02</td>\n",
       "      <td>3.66e-03</td>\n",
       "      <td>0.97</td>\n",
       "      <td>1.00e+00</td>\n",
       "    </tr>\n",
       "  </tbody>\n",
       "</table>\n",
       "</div>"
      ],
      "text/plain": [
       "            area  perimeter  majoraxislength  minoraxislength  aspectration  \\\n",
       "count   13611.00   13611.00         13611.00         13611.00      13611.00   \n",
       "mean    53048.28     855.28           320.14           202.27          1.58   \n",
       "std     29324.10     214.29            85.69            44.97          0.25   \n",
       "min     20420.00     524.74           183.60           122.51          1.02   \n",
       "25%     36328.00     703.52           253.30           175.85          1.43   \n",
       "50%     44652.00     794.94           296.88           192.43          1.55   \n",
       "75%     61332.00     977.21           376.50           217.03          1.71   \n",
       "max    254616.00    1985.37           738.86           460.20          2.43   \n",
       "\n",
       "       eccentricity  convexarea  equivdiameter    extent  solidity  roundness  \\\n",
       "count      13611.00    13611.00       13611.00  13611.00  1.36e+04   13611.00   \n",
       "mean           0.75    53768.20         253.06      0.75  9.87e-01       0.87   \n",
       "std            0.09    29774.92          59.18      0.05  4.66e-03       0.06   \n",
       "min            0.22    20684.00         161.24      0.56  9.19e-01       0.49   \n",
       "25%            0.72    36714.50         215.07      0.72  9.86e-01       0.83   \n",
       "50%            0.76    45178.00         238.44      0.76  9.88e-01       0.88   \n",
       "75%            0.81    62294.00         279.45      0.79  9.90e-01       0.92   \n",
       "max            0.91   263261.00         569.37      0.87  9.95e-01       0.99   \n",
       "\n",
       "       compactness  shapefactor1  shapefactor2  shapefactor3  shapefactor4  \n",
       "count     13611.00      1.36e+04      1.36e+04      13611.00      1.36e+04  \n",
       "mean          0.80      6.56e-03      1.72e-03          0.64      9.95e-01  \n",
       "std           0.06      1.13e-03      5.96e-04          0.10      4.37e-03  \n",
       "min           0.64      2.78e-03      5.64e-04          0.41      9.48e-01  \n",
       "25%           0.76      5.90e-03      1.15e-03          0.58      9.94e-01  \n",
       "50%           0.80      6.65e-03      1.69e-03          0.64      9.96e-01  \n",
       "75%           0.83      7.27e-03      2.17e-03          0.70      9.98e-01  \n",
       "max           0.99      1.05e-02      3.66e-03          0.97      1.00e+00  "
      ]
     },
     "execution_count": 10,
     "metadata": {},
     "output_type": "execute_result"
    }
   ],
   "source": [
    "df.describe()"
   ]
  },
  {
   "cell_type": "markdown",
   "id": "fb63dd99-986b-4b7b-ac25-51aa4b8fd04d",
   "metadata": {
    "execution": {
     "iopub.execute_input": "2021-05-19T00:42:01.463857Z",
     "iopub.status.busy": "2021-05-19T00:42:01.463452Z",
     "iopub.status.idle": "2021-05-19T00:42:01.467988Z",
     "shell.execute_reply": "2021-05-19T00:42:01.467137Z",
     "shell.execute_reply.started": "2021-05-19T00:42:01.463814Z"
    },
    "tags": []
   },
   "source": [
    "## For a bit of fun\n",
    "### to reiterate. the data comes from camera measurements\n",
    "### use the magic command %%bash\n",
    "### run the linux command sed to print out some lines from the data description file\n",
    "## This won't work on Windows"
   ]
  },
  {
   "cell_type": "code",
   "execution_count": 11,
   "id": "d5c2d428-9d7b-4267-8f45-0a3759a2f340",
   "metadata": {
    "execution": {
     "iopub.execute_input": "2021-05-19T01:37:22.127497Z",
     "iopub.status.busy": "2021-05-19T01:37:22.127247Z",
     "iopub.status.idle": "2021-05-19T01:37:22.228865Z",
     "shell.execute_reply": "2021-05-19T01:37:22.227438Z",
     "shell.execute_reply.started": "2021-05-19T01:37:22.127470Z"
    },
    "tags": []
   },
   "outputs": [
    {
     "name": "stdout",
     "output_type": "stream",
     "text": [
      "1.) Area (A): The area of a bean zone and the number of pixels within its boundaries.\n",
      "2.) Perimeter (P): Bean circumference is defined as the length of its border.\n",
      "3.) Major axis length (L): The distance between the ends of the longest line that can be drawn from a bean.\n",
      "4.) Minor axis length (l): The longest line that can be drawn from the bean while standing perpendicular to the main axis.\n",
      "5.) Aspect ratio (K): Defines the relationship between L and l.\n",
      "6.) Eccentricity (Ec): Eccentricity of the ellipse having the same moments as the region.\n",
      "7.) Convex area (C): Number of pixels in the smallest convex polygon that can contain the area of a bean seed.\n",
      "8.) Equivalent diameter (Ed): The diameter of a circle having the same area as a bean seed area.\n",
      "9.) Extent (Ex): The ratio of the pixels in the bounding box to the bean area.\n",
      "10.)Solidity (S): Also known as convexity. The ratio of the pixels in the convex shell to those found in beans.\n",
      "11.)Roundness (R): Calculated with the following formula: (4piA)/(P^2)\n",
      "12.)Compactness (CO): Measures the roundness of an object: Ed/L\n",
      "13.)ShapeFactor1 (SF1)\n",
      "14.)ShapeFactor2 (SF2)\n",
      "15.)ShapeFactor3 (SF3)\n",
      "16.)ShapeFactor4 (SF4)\n",
      "17.)Class (Seker, Barbunya, Bombay, Cali, Dermosan, Horoz and Sira)\n",
      "\n",
      "\n"
     ]
    }
   ],
   "source": [
    "%%bash\n",
    "sed -n 52,70p ../Data/DryBeanDataset/Dry_Bean_Dataset.txt"
   ]
  },
  {
   "cell_type": "markdown",
   "id": "c05ecfb1-fe2f-4aaf-87a9-2b600b48c045",
   "metadata": {
    "tags": []
   },
   "source": [
    "### The data are created from camera information\n",
    "### get a better idea of what is going on with some investigation\n",
    "### there are 4 shapefactors\n",
    "### groupby shapefactor and bean"
   ]
  },
  {
   "cell_type": "code",
   "execution_count": 12,
   "id": "8e2a38d3-1751-4643-8e5c-303d929d0dc5",
   "metadata": {
    "execution": {
     "iopub.execute_input": "2021-05-19T01:37:22.231677Z",
     "iopub.status.busy": "2021-05-19T01:37:22.231327Z",
     "iopub.status.idle": "2021-05-19T01:37:23.682013Z",
     "shell.execute_reply": "2021-05-19T01:37:23.681061Z",
     "shell.execute_reply.started": "2021-05-19T01:37:22.231639Z"
    },
    "tags": []
   },
   "outputs": [
    {
     "data": {
      "application/javascript": [
       "\n",
       "        if (window._pyforest_update_imports_cell) { window._pyforest_update_imports_cell('import pandas as pd'); }\n",
       "    "
      ],
      "text/plain": [
       "<IPython.core.display.Javascript object>"
      ]
     },
     "metadata": {},
     "output_type": "display_data"
    }
   ],
   "source": [
    "dfshape = pd.DataFrame([df.shapefactor1, df.shapefactor2, df.shapefactor3, df.shapefactor4, df.bean])"
   ]
  },
  {
   "cell_type": "code",
   "execution_count": 13,
   "id": "391af952-9f32-447a-940e-01885187c466",
   "metadata": {
    "execution": {
     "iopub.execute_input": "2021-05-19T01:37:23.685093Z",
     "iopub.status.busy": "2021-05-19T01:37:23.684677Z",
     "iopub.status.idle": "2021-05-19T01:37:23.699078Z",
     "shell.execute_reply": "2021-05-19T01:37:23.698142Z",
     "shell.execute_reply.started": "2021-05-19T01:37:23.685047Z"
    },
    "tags": []
   },
   "outputs": [],
   "source": [
    "dfshape = dfshape.T.head(20)"
   ]
  },
  {
   "cell_type": "code",
   "execution_count": 25,
   "id": "775a6d24-fa4e-439c-853d-e37f5ab75fc5",
   "metadata": {
    "execution": {
     "iopub.execute_input": "2021-05-20T00:18:12.694731Z",
     "iopub.status.busy": "2021-05-20T00:18:12.693225Z",
     "iopub.status.idle": "2021-05-20T00:18:13.370019Z",
     "shell.execute_reply": "2021-05-20T00:18:13.369011Z",
     "shell.execute_reply.started": "2021-05-20T00:18:12.694664Z"
    },
    "tags": []
   },
   "outputs": [
    {
     "data": {
      "application/javascript": [
       "\n",
       "        if (window._pyforest_update_imports_cell) { window._pyforest_update_imports_cell('import pandas as pd\\nimport seaborn as sns\\nimport matplotlib.pyplot as plt'); }\n",
       "    "
      ],
      "text/plain": [
       "<IPython.core.display.Javascript object>"
      ]
     },
     "metadata": {},
     "output_type": "display_data"
    },
    {
     "data": {
      "image/png": "[encoded data removed]",
      "text/plain": [
       "<Figure size 432x288 with 1 Axes>"
      ]
     },
     "metadata": {},
     "output_type": "display_data"
    }
   ],
   "source": [
    "dftemp1 = pd.DataFrame(df.groupby(['bean']).agg('perimeter').mean())\n",
    "dftemp1.plot(kind='bar');"
   ]
  },
  {
   "cell_type": "code",
   "execution_count": 27,
   "id": "812baa42-325c-4ff7-942f-694b3006b31d",
   "metadata": {
    "execution": {
     "iopub.execute_input": "2021-05-20T00:19:26.323571Z",
     "iopub.status.busy": "2021-05-20T00:19:26.323157Z",
     "iopub.status.idle": "2021-05-20T00:19:27.154129Z",
     "shell.execute_reply": "2021-05-20T00:19:27.153336Z",
     "shell.execute_reply.started": "2021-05-20T00:19:26.323523Z"
    },
    "tags": []
   },
   "outputs": [
    {
     "data": {
      "application/javascript": [
       "\n",
       "        if (window._pyforest_update_imports_cell) { window._pyforest_update_imports_cell('import pandas as pd\\nimport seaborn as sns\\nimport matplotlib.pyplot as plt'); }\n",
       "    "
      ],
      "text/plain": [
       "<IPython.core.display.Javascript object>"
      ]
     },
     "metadata": {},
     "output_type": "display_data"
    },
    {
     "data": {
      "application/javascript": [
       "\n",
       "        if (window._pyforest_update_imports_cell) { window._pyforest_update_imports_cell('import pandas as pd\\nimport seaborn as sns\\nimport matplotlib.pyplot as plt'); }\n",
       "    "
      ],
      "text/plain": [
       "<IPython.core.display.Javascript object>"
      ]
     },
     "metadata": {},
     "output_type": "display_data"
    },
    {
     "data": {
      "application/javascript": [
       "\n",
       "        if (window._pyforest_update_imports_cell) { window._pyforest_update_imports_cell('import pandas as pd\\nimport seaborn as sns\\nimport matplotlib.pyplot as plt'); }\n",
       "    "
      ],
      "text/plain": [
       "<IPython.core.display.Javascript object>"
      ]
     },
     "metadata": {},
     "output_type": "display_data"
    },
    {
     "data": {
      "application/javascript": [
       "\n",
       "        if (window._pyforest_update_imports_cell) { window._pyforest_update_imports_cell('import pandas as pd\\nimport seaborn as sns\\nimport matplotlib.pyplot as plt'); }\n",
       "    "
      ],
      "text/plain": [
       "<IPython.core.display.Javascript object>"
      ]
     },
     "metadata": {},
     "output_type": "display_data"
    },
    {
     "data": {
      "application/javascript": [
       "\n",
       "        if (window._pyforest_update_imports_cell) { window._pyforest_update_imports_cell('import pandas as pd\\nimport seaborn as sns\\nimport matplotlib.pyplot as plt'); }\n",
       "    "
      ],
      "text/plain": [
       "<IPython.core.display.Javascript object>"
      ]
     },
     "metadata": {},
     "output_type": "display_data"
    },
    {
     "data": {
      "application/javascript": [
       "\n",
       "        if (window._pyforest_update_imports_cell) { window._pyforest_update_imports_cell('import pandas as pd\\nimport seaborn as sns\\nimport matplotlib.pyplot as plt'); }\n",
       "    "
      ],
      "text/plain": [
       "<IPython.core.display.Javascript object>"
      ]
     },
     "metadata": {},
     "output_type": "display_data"
    },
    {
     "data": {
      "image/png": "[encoded data removed]",
      "text/plain": [
       "<Figure size 1368x1080 with 2 Axes>"
      ]
     },
     "metadata": {},
     "output_type": "display_data"
    }
   ],
   "source": [
    "f = plt.figure(figsize=(19, 15))\n",
    "plt.matshow(df.corr(), fignum=f.number)\n",
    "plt.xticks(range(df.select_dtypes(['number']).shape[1]), df.select_dtypes(['number']).columns, fontsize=14, rotation=45)\n",
    "plt.yticks(range(df.select_dtypes(['number']).shape[1]), df.select_dtypes(['number']).columns, fontsize=14)\n",
    "cb = plt.colorbar()\n",
    "cb.ax.tick_params(labelsize=14)\n",
    "plt.title('Correlation Matrix', fontsize=20);"
   ]
  },
  {
   "cell_type": "code",
   "execution_count": 23,
   "id": "a8798784-467d-4c5a-959d-52e938ec9d43",
   "metadata": {
    "execution": {
     "iopub.execute_input": "2021-05-20T00:12:59.870659Z",
     "iopub.status.busy": "2021-05-20T00:12:59.870359Z",
     "iopub.status.idle": "2021-05-20T00:13:00.318594Z",
     "shell.execute_reply": "2021-05-20T00:13:00.317767Z",
     "shell.execute_reply.started": "2021-05-20T00:12:59.870629Z"
    },
    "tags": []
   },
   "outputs": [
    {
     "data": {
      "application/javascript": [
       "\n",
       "        if (window._pyforest_update_imports_cell) { window._pyforest_update_imports_cell('import pandas as pd\\nimport seaborn as sns\\nimport matplotlib.pyplot as plt'); }\n",
       "    "
      ],
      "text/plain": [
       "<IPython.core.display.Javascript object>"
      ]
     },
     "metadata": {},
     "output_type": "display_data"
    },
    {
     "data": {
      "text/plain": [
       "<seaborn.axisgrid.FacetGrid at 0x7fb338554670>"
      ]
     },
     "execution_count": 23,
     "metadata": {},
     "output_type": "execute_result"
    },
    {
     "data": {
      "image/png": "[encoded data removed]",
      "text/plain": [
       "<Figure size 360x360 with 1 Axes>"
      ]
     },
     "metadata": {
      "needs_background": "light"
     },
     "output_type": "display_data"
    }
   ],
   "source": [
    "sns.catplot(x=\"bean\", y=\"area\", data=df)"
   ]
  },
  {
   "cell_type": "code",
   "execution_count": null,
   "id": "d61261c3-14fa-4fbf-b4f6-ca54c2f26e4a",
   "metadata": {},
   "outputs": [],
   "source": []
  }
 ],
 "metadata": {
  "kernelspec": {
   "display_name": "Python 3",
   "language": "python",
   "name": "python3"
  },
  "language_info": {
   "codemirror_mode": {
    "name": "ipython",
    "version": 3
   },
   "file_extension": ".py",
   "mimetype": "text/x-python",
   "name": "python",
   "nbconvert_exporter": "python",
   "pygments_lexer": "ipython3",
   "version": "3.8.5"
  }
 },
 "nbformat": 4,
 "nbformat_minor": 5
}
